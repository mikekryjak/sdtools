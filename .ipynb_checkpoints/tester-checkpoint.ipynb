{
 "cells": [
  {
   "cell_type": "code",
   "execution_count": 6,
   "id": "2b106da1-7759-4bd6-b844-24b364c0e3e5",
   "metadata": {},
   "outputs": [
    {
     "name": "stdout",
     "output_type": "stream",
     "text": [
      "The autoreload extension is already loaded. To reload it, use:\n",
      "  %reload_ext autoreload\n"
     ]
    }
   ],
   "source": [
    "from sdtools import *\n",
    "from is_finished import *\n",
    "from boutdata.data import BoutData\n",
    "from datetime import datetime\n",
    "import os\n",
    "\n",
    "%load_ext autoreload\n",
    "%autoreload 2"
   ]
  },
  {
   "cell_type": "code",
   "execution_count": 12,
   "id": "2ded3d65-0f46-45a9-9abd-1d975d71bed9",
   "metadata": {},
   "outputs": [
    {
     "name": "stdout",
     "output_type": "stream",
     "text": [
      "20/05/2022 19:06\n"
     ]
    }
   ],
   "source": [
    "mtime = os.path.getmtime(\"sz5-dc2-1\")\n",
    "mtime = datetime.fromtimestamp(mtime)\n",
    "mtime_str = mtime.strftime(\"%d/%m/%Y %H:%M\")\n",
    "print(mtime_str)"
   ]
  },
  {
   "cell_type": "code",
   "execution_count": 16,
   "id": "fc4bfef9-ccc5-48bc-b608-ac83bc269541",
   "metadata": {},
   "outputs": [
    {
     "name": "stderr",
     "output_type": "stream",
     "text": [
      "usage: ipykernel_launcher.py [-h] case_key [opt_key]\n",
      "ipykernel_launcher.py: error: unrecognized arguments: -f\n"
     ]
    },
    {
     "ename": "SystemExit",
     "evalue": "2",
     "output_type": "error",
     "traceback": [
      "An exception has occurred, use %tb to see the full traceback.\n",
      "\u001b[1;31mSystemExit\u001b[0m\u001b[1;31m:\u001b[0m 2\n"
     ]
    }
   ],
   "source": [
    "from read_opt import *\n",
    "\n",
    "read_opt(\"sz5-dc2-1\")"
   ]
  },
  {
   "cell_type": "code",
   "execution_count": 87,
   "id": "6d66aae9-b43b-44cb-b40d-a0ee54e9ca70",
   "metadata": {},
   "outputs": [
    {
     "name": "stdout",
     "output_type": "stream",
     "text": [
      "c1-r1-1-x || Not started\n",
      "c1-r1-10-x || Not started\n",
      "c1-r1-2 || Not started\n",
      "c1-r1-3-x || Not started\n",
      "c1-r1-5-x || Not started\n",
      "c1-r1-7-x || Not started\n",
      "sd5-dc2-1 || Finished\n",
      "sd5-dc2-2 || Finished\n",
      "sd5-dc2-3 || Finished\n",
      "test-1 || Finished\n",
      "test2 || Not started\n",
      "test3 || Not started\n"
     ]
    }
   ],
   "source": [
    "is_finished(os.getcwd()+os.path.sep+\"cases\", \"\")"
   ]
  },
  {
   "cell_type": "code",
   "execution_count": 65,
   "id": "f33e8910-3080-4b9d-8ab5-0ad8a5ece119",
   "metadata": {
    "tags": []
   },
   "outputs": [
    {
     "name": "stdout",
     "output_type": "stream",
     "text": [
      "-----------------------------------------------------------\n",
      "Cloning case c1-r1-2 onto density scan [1e+19, 2e+19, 3e+19, 5e+19, 7e+19, 1e+20]\n",
      "Overwrite set to true!\n",
      "\n",
      "Case c1-r1-1-x already exists!\n",
      "Force enabled, deleting c1-r1-1-x\n",
      "-> Copied case C:\\Users\\Mike\\OneDrive\\Project\\sdtools\\cases\\c1-r1-2 into c1-r1-1-x\n",
      "Cleaning case C:\\Users\\Mike\\OneDrive\\Project\\sdtools\\cases\\c1-r1-1-x....\n",
      "Nothing to clean\n",
      ">>>>>Opened C:\\Users\\Mike\\OneDrive\\Project\\sdtools\\cases\\c1-r1-1-x\\\\BOUT.inp\n",
      "Old line: function = 0.2\n",
      "New line: function = 0.1\n",
      "Case written successfully\n",
      "Created new case C:\\Users\\Mike\\OneDrive\\Project\\sdtools\\cases\\c1-r1-1-x\n",
      "\n",
      "Case c1-r1-3-x already exists!\n",
      "Force enabled, deleting c1-r1-3-x\n",
      "-> Copied case C:\\Users\\Mike\\OneDrive\\Project\\sdtools\\cases\\c1-r1-2 into c1-r1-3-x\n",
      "Cleaning case C:\\Users\\Mike\\OneDrive\\Project\\sdtools\\cases\\c1-r1-3-x....\n",
      "Nothing to clean\n",
      ">>>>>Opened C:\\Users\\Mike\\OneDrive\\Project\\sdtools\\cases\\c1-r1-3-x\\\\BOUT.inp\n",
      "Old line: function = 0.2\n",
      "New line: function = 0.3\n",
      "Case written successfully\n",
      "Created new case C:\\Users\\Mike\\OneDrive\\Project\\sdtools\\cases\\c1-r1-3-x\n",
      "\n",
      "Case c1-r1-5-x already exists!\n",
      "Force enabled, deleting c1-r1-5-x\n",
      "-> Copied case C:\\Users\\Mike\\OneDrive\\Project\\sdtools\\cases\\c1-r1-2 into c1-r1-5-x\n",
      "Cleaning case C:\\Users\\Mike\\OneDrive\\Project\\sdtools\\cases\\c1-r1-5-x....\n",
      "Nothing to clean\n",
      ">>>>>Opened C:\\Users\\Mike\\OneDrive\\Project\\sdtools\\cases\\c1-r1-5-x\\\\BOUT.inp\n",
      "Old line: function = 0.2\n",
      "New line: function = 0.5\n",
      "Case written successfully\n",
      "Created new case C:\\Users\\Mike\\OneDrive\\Project\\sdtools\\cases\\c1-r1-5-x\n",
      "\n",
      "Case c1-r1-7-x already exists!\n",
      "Force enabled, deleting c1-r1-7-x\n",
      "-> Copied case C:\\Users\\Mike\\OneDrive\\Project\\sdtools\\cases\\c1-r1-2 into c1-r1-7-x\n",
      "Cleaning case C:\\Users\\Mike\\OneDrive\\Project\\sdtools\\cases\\c1-r1-7-x....\n",
      "Nothing to clean\n",
      ">>>>>Opened C:\\Users\\Mike\\OneDrive\\Project\\sdtools\\cases\\c1-r1-7-x\\\\BOUT.inp\n",
      "Old line: function = 0.2\n",
      "New line: function = 0.7\n",
      "Case written successfully\n",
      "Created new case C:\\Users\\Mike\\OneDrive\\Project\\sdtools\\cases\\c1-r1-7-x\n",
      "\n",
      "Case c1-r1-10-x already exists!\n",
      "Force enabled, deleting c1-r1-10-x\n",
      "-> Copied case C:\\Users\\Mike\\OneDrive\\Project\\sdtools\\cases\\c1-r1-2 into c1-r1-10-x\n",
      "Cleaning case C:\\Users\\Mike\\OneDrive\\Project\\sdtools\\cases\\c1-r1-10-x....\n",
      "Nothing to clean\n",
      ">>>>>Opened C:\\Users\\Mike\\OneDrive\\Project\\sdtools\\cases\\c1-r1-10-x\\\\BOUT.inp\n",
      "Old line: function = 0.2\n",
      "New line: function = 1.0\n",
      "Case written successfully\n",
      "Created new case C:\\Users\\Mike\\OneDrive\\Project\\sdtools\\cases\\c1-r1-10-x\n",
      "\n"
     ]
    }
   ],
   "source": [
    "def make_scan(case, overwrite = False)\n",
    "    \"\"\"\n",
    "    Takes one case and creates density scans to hardcoded density\n",
    "    New cases are renamed and a suffix -x is appended to indicate unfinished case\n",
    "    Cases are cleaned and if overwrite=True, new cases overwrite any old ones\n",
    "    \"\"\"\n",
    "    # case = \"c1-r1-2\"\n",
    "    # path_case = os.getcwd()+\"\\\\cases\\\\\"+case\n",
    "    \n",
    "    prefix = case.split(\"-\")[0]\n",
    "    caseid = case.split(\"-\")[1]\n",
    "    densid = case.split(\"-\")[2]\n",
    "\n",
    "    intend_dens = float(densid) * 1e19\n",
    "    dens_scan = [1e19, 2e19, 3e19, 5e19, 7e19, 10e19]\n",
    "\n",
    "    print(\"-----------------------------------------------------------\")\n",
    "    print(f\"Cloning case {case} onto density scan {dens_scan}\")\n",
    "    if overwrite:\n",
    "        print(\"Overwrite set to true!\\n\")\n",
    "\n",
    "    case_dens = float(read_opt(path_case, quiet = True)[\"ne:function\"]) * 1e20\n",
    "\n",
    "    if intend_dens != case_dens:\n",
    "        print(f\"Case {case} density mismatch. Found: {case_dens:.1E} || Case name implies: {intend_dens:.1E}\")\n",
    "        print(\"Correcting density to match case name.\")\n",
    "        set_opt(path_case, \"ne:function\", intend_dens/1e20)\n",
    "\n",
    "    if intend_dens in dens_scan:\n",
    "        dens_scan.remove(intend_dens)\n",
    "\n",
    "    new_names = []\n",
    "\n",
    "    for i, dens in enumerate(dens_scan):\n",
    "        new_names.append(prefix + \"-\" + caseid + \"-\" + str(int(dens/1e19)) + \"-x\")\n",
    "\n",
    "    for i, new_case in enumerate(new_names):\n",
    "        clone(path_case, new_case, force = overwrite, c = True)\n",
    "\n",
    "        path_new_case = os.path.dirname(path_case) + os.path.sep + new_case\n",
    "        set_opt(path_new_case, \"ne:function\", dens_scan[i]/1e20)\n",
    "\n",
    "        print(\"Created new case {}\\n\".format(path_new_case))"
   ]
  },
  {
   "cell_type": "code",
   "execution_count": 55,
   "id": "72d5eed9-6ff9-4d59-8964-2f93e479a721",
   "metadata": {},
   "outputs": [
    {
     "ename": "ValueError",
     "evalue": "not enough values to unpack (expected 3, got 1)",
     "output_type": "error",
     "traceback": [
      "\u001b[1;31m---------------------------------------------------------------------------\u001b[0m",
      "\u001b[1;31mValueError\u001b[0m                                Traceback (most recent call last)",
      "\u001b[1;32m~\\AppData\\Local\\Temp/ipykernel_22628/2554398537.py\u001b[0m in \u001b[0;36m<module>\u001b[1;34m\u001b[0m\n\u001b[1;32m----> 1\u001b[1;33m \u001b[1;33m(\u001b[0m\u001b[0mroots\u001b[0m\u001b[1;33m,\u001b[0m \u001b[0mdirs\u001b[0m\u001b[1;33m,\u001b[0m \u001b[0mfiles\u001b[0m\u001b[1;33m)\u001b[0m \u001b[1;33m=\u001b[0m \u001b[0mos\u001b[0m\u001b[1;33m.\u001b[0m\u001b[0mwalk\u001b[0m\u001b[1;33m(\u001b[0m\u001b[0mpath_case\u001b[0m\u001b[1;33m)\u001b[0m\u001b[1;33m\u001b[0m\u001b[1;33m\u001b[0m\u001b[0m\n\u001b[0m\u001b[0;32m      2\u001b[0m \u001b[1;33m\u001b[0m\u001b[0m\n\u001b[0;32m      3\u001b[0m \u001b[0mdirs\u001b[0m\u001b[1;33m\u001b[0m\u001b[1;33m\u001b[0m\u001b[0m\n",
      "\u001b[1;31mValueError\u001b[0m: not enough values to unpack (expected 3, got 1)"
     ]
    }
   ],
   "source": [
    "for root, dirs, files in os.walk('python/Lib/email'):"
   ]
  },
  {
   "cell_type": "code",
   "execution_count": 39,
   "id": "2ee90fd7-4e3e-46a2-b4cc-a9952b9a1d21",
   "metadata": {},
   "outputs": [
    {
     "data": {
      "text/plain": [
       "'C:\\\\Users\\\\Mike\\\\OneDrive\\\\Project'"
      ]
     },
     "execution_count": 39,
     "metadata": {},
     "output_type": "execute_result"
    }
   ],
   "source": [
    "os.path.dirname(os.getcwd())"
   ]
  },
  {
   "cell_type": "code",
   "execution_count": null,
   "id": "7ad2aaa1-c48d-44ac-b15e-830042c31ba1",
   "metadata": {},
   "outputs": [],
   "source": [
    "print(\"something\")"
   ]
  },
  {
   "cell_type": "code",
   "execution_count": 80,
   "id": "3ffe3cf2-3901-4462-b9fb-985c7f4c6347",
   "metadata": {},
   "outputs": [
    {
     "name": "stdout",
     "output_type": "stream",
     "text": [
      "True\n"
     ]
    },
    {
     "data": {
      "text/plain": [
       "True"
      ]
     },
     "execution_count": 80,
     "metadata": {},
     "output_type": "execute_result"
    }
   ],
   "source": [
    "is_finished(os.getcwd()+os.path.sep+\"cases\"+os.path.sep+\"sd5-dc2-1\")"
   ]
  },
  {
   "cell_type": "code",
   "execution_count": 70,
   "id": "cd9a3625-6a03-45c8-b003-f45990edfe97",
   "metadata": {},
   "outputs": [],
   "source": [
    "data = BoutData(os.getcwd()+os.path.sep+\"cases\"+os.path.sep+\"sd5-dc2-1\")\n",
    "options = data[\"options\"]\n",
    "outputs = data[\"outputs\"]\n",
    "\n",
    "nout = options[\"nout\"]\n",
    "Ne_intended = options[\"sd1d:density_upstream\"]\n",
    "Nnorm = outputs[\"Nnorm\"]\n",
    "Ne_actual = outputs[\"Ne\"]\n",
    "rhsevals = outputs[\"ncalls\"]\n",
    "wtime = outputs[\"wtime\"]\n",
    "sum_rhsevals = sum(rhsevals)"
   ]
  },
  {
   "cell_type": "code",
   "execution_count": 71,
   "id": "e30566a6-e7ed-4de0-9940-9f5541b5bcb4",
   "metadata": {},
   "outputs": [
    {
     "data": {
      "text/plain": [
       "['BOUT_VERSION',\n",
       " 't_array',\n",
       " 'iteration',\n",
       " 'zperiod',\n",
       " 'MXSUB',\n",
       " 'MYSUB',\n",
       " 'MZSUB',\n",
       " 'PE_XIND',\n",
       " 'PE_YIND',\n",
       " 'MYPE',\n",
       " 'MXG',\n",
       " 'MYG',\n",
       " 'MZG',\n",
       " 'nx',\n",
       " 'ny',\n",
       " 'nz',\n",
       " 'MZ',\n",
       " 'NXPE',\n",
       " 'NYPE',\n",
       " 'NZPE',\n",
       " 'ZMAX',\n",
       " 'ZMIN',\n",
       " 'ixseps1',\n",
       " 'ixseps2',\n",
       " 'jyseps1_1',\n",
       " 'jyseps1_2',\n",
       " 'jyseps2_1',\n",
       " 'jyseps2_2',\n",
       " 'ny_inner',\n",
       " 'dx',\n",
       " 'dy',\n",
       " 'dz',\n",
       " 'g11',\n",
       " 'g22',\n",
       " 'g33',\n",
       " 'g12',\n",
       " 'g13',\n",
       " 'g23',\n",
       " 'g_11',\n",
       " 'g_22',\n",
       " 'g_33',\n",
       " 'g_12',\n",
       " 'g_13',\n",
       " 'g_23',\n",
       " 'J',\n",
       " 'Bxy',\n",
       " 'G1',\n",
       " 'G2',\n",
       " 'G3',\n",
       " 'has_fftw',\n",
       " 'has_gettext',\n",
       " 'has_lapack',\n",
       " 'has_netcdf',\n",
       " 'has_legacy_netcdf',\n",
       " 'has_petsc',\n",
       " 'has_pretty_function',\n",
       " 'has_pvode',\n",
       " 'has_scorep',\n",
       " 'has_slepc',\n",
       " 'has_sundials',\n",
       " 'use_backtrace',\n",
       " 'use_color',\n",
       " 'use_openmp',\n",
       " 'use_output_debug',\n",
       " 'use_sigfpe',\n",
       " 'use_signal',\n",
       " 'use_track',\n",
       " 'use_metric_3d',\n",
       " 'use_msgstack',\n",
       " 'Tnorm',\n",
       " 'Nnorm',\n",
       " 'Bnorm',\n",
       " 'AA',\n",
       " 'dneut',\n",
       " 'Cs0',\n",
       " 'Omega_ci',\n",
       " 'rho_s0',\n",
       " 'tau_e0',\n",
       " 'mi_me',\n",
       " 'PeSource',\n",
       " 'NeSource',\n",
       " 'S',\n",
       " 'R',\n",
       " 'E',\n",
       " 'F',\n",
       " 'Dn',\n",
       " 'kappa_n',\n",
       " 'flux_ion',\n",
       " 'kappa_epar',\n",
       " 'Srec',\n",
       " 'Siz',\n",
       " 'Frec',\n",
       " 'Fiz',\n",
       " 'Fcx',\n",
       " 'Rrec',\n",
       " 'Riz',\n",
       " 'Rzrad',\n",
       " 'Erec',\n",
       " 'Eiz',\n",
       " 'Ecx',\n",
       " 'Rex',\n",
       " 'Vn',\n",
       " 'Vi',\n",
       " 'wall_time',\n",
       " 'wtime',\n",
       " 'ncalls',\n",
       " 'ncalls_e',\n",
       " 'ncalls_i',\n",
       " 'wtime_rhs',\n",
       " 'wtime_invert',\n",
       " 'wtime_comms',\n",
       " 'wtime_io',\n",
       " 'wtime_per_rhs',\n",
       " 'wtime_per_rhs_e',\n",
       " 'wtime_per_rhs_i',\n",
       " 'tt',\n",
       " 'hist_hi',\n",
       " 'run_id',\n",
       " 'run_restart_from',\n",
       " 'Ne',\n",
       " 'NVi',\n",
       " 'P',\n",
       " 'Nn',\n",
       " 'NVn',\n",
       " 'Pn']"
      ]
     },
     "execution_count": 71,
     "metadata": {},
     "output_type": "execute_result"
    }
   ],
   "source": [
    "data[\"outputs\"].keys()"
   ]
  },
  {
   "cell_type": "code",
   "execution_count": 74,
   "id": "f9100173-1765-44d3-b445-922941654f3c",
   "metadata": {},
   "outputs": [
    {
     "data": {
      "text/plain": [
       "BoutArray(500000.)"
      ]
     },
     "execution_count": 74,
     "metadata": {},
     "output_type": "execute_result"
    }
   ],
   "source": [
    "data[\"outputs\"][\"tt\"]"
   ]
  },
  {
   "cell_type": "code",
   "execution_count": 76,
   "id": "37b084bb-095d-4894-b723-012d3cd0fb3a",
   "metadata": {},
   "outputs": [
    {
     "data": {
      "text/plain": [
       "500000.0"
      ]
     },
     "execution_count": 76,
     "metadata": {},
     "output_type": "execute_result"
    }
   ],
   "source": [
    "def is_finished(case_path):\n",
    "    \"\"\"\n",
    "    Returns true if case finished\n",
    "    \"\"\"\n",
    "    data = BoutData(case_path)\n",
    "\n",
    "    if data[\"options\"][\"timestep\"] * data[\"options\"][\"nout\"] == data[\"outputs\"][\"tt\"]:\n",
    "        is_finished = True\n",
    "    else:\n",
    "        is_finished = False\n",
    "        \n",
    "    return is_finished"
   ]
  }
 ],
 "metadata": {
  "kernelspec": {
   "display_name": "Python 3 (ipykernel)",
   "language": "python",
   "name": "python3"
  },
  "language_info": {
   "codemirror_mode": {
    "name": "ipython",
    "version": 3
   },
   "file_extension": ".py",
   "mimetype": "text/x-python",
   "name": "python",
   "nbconvert_exporter": "python",
   "pygments_lexer": "ipython3",
   "version": "3.8.5"
  }
 },
 "nbformat": 4,
 "nbformat_minor": 5
}
